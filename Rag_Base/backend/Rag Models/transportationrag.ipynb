{
 "cells": [
  {
   "cell_type": "code",
   "execution_count": 1,
   "id": "63838a61",
   "metadata": {},
   "outputs": [
    {
     "name": "stderr",
     "output_type": "stream",
     "text": [
      "C:\\Users\\HP\\AppData\\Roaming\\Python\\Python313\\site-packages\\tqdm\\auto.py:21: TqdmWarning: IProgress not found. Please update jupyter and ipywidgets. See https://ipywidgets.readthedocs.io/en/stable/user_install.html\n",
      "  from .autonotebook import tqdm as notebook_tqdm\n"
     ]
    }
   ],
   "source": [
    "import google.generativeai as genai\n",
    "from langchain_google_genai import GoogleGenerativeAI\n",
    "from langchain.document_loaders import JSONLoader\n",
    "from langchain_google_genai import GoogleGenerativeAIEmbeddings\n",
    "from langchain.vectorstores import FAISS\n",
    "from langchain.chains import RetrievalQA\n",
    "from langchain_google_genai import ChatGoogleGenerativeAI\n",
    "from langchain.memory import ConversationBufferMemory\n",
    "from langchain.prompts import PromptTemplate\n",
    "from langchain.chains import ConversationalRetrievalChain\n",
    "import os\n",
    "from dotenv import load_dotenv\n",
    "load_dotenv()\n",
    "\n",
    "google_api_key = os.getenv(\"GOOGLE_API_KEY_2\")\n",
    "#print(os.getenv(\"GOOGLE_API_KEY_2\"))"
   ]
  },
  {
   "cell_type": "code",
   "execution_count": 2,
   "id": "39d96288",
   "metadata": {},
   "outputs": [
    {
     "name": "stdout",
     "output_type": "stream",
     "text": [
      "Attempting to access folder: 'D:\\my_code_profile\\group_project\\Verdant\\Verdant\\Rag_Base\\jsonfiles\\transportation'\n",
      "Folder 'D:\\my_code_profile\\group_project\\Verdant\\Verdant\\Rag_Base\\jsonfiles\\transportation' exists. Listing contents...\n",
      "Loaded 1 pages\n"
     ]
    }
   ],
   "source": [
    "#print(openai_api_key)\n",
    "\n",
    "folder = r\"D:\\my_code_profile\\group_project\\Verdant\\Verdant\\Rag_Base\\jsonfiles\\transportation\"\n",
    "documents = []\n",
    "\n",
    "print(f\"Attempting to access folder: '{folder}'\") # Add this line\n",
    "if not os.path.exists(folder): # Add this check\n",
    "    print(f\"Error: Folder '{folder}' does not exist.\")\n",
    "else:\n",
    "    print(f\"Folder '{folder}' exists. Listing contents...\")\n",
    "\n",
    "for file in os.listdir(folder):\n",
    "    if file.endswith(\".json\"):\n",
    "        f = os.path.join(folder, file)\n",
    "        loader= JSONLoader(file_path=f, jq_schema = \".\", text_content=False )  \n",
    "        documents.extend(loader.load())\n",
    "\n",
    "print(f\"Loaded {len(documents)} pages\")"
   ]
  },
  {
   "cell_type": "code",
   "execution_count": 3,
   "id": "15bafaaa",
   "metadata": {},
   "outputs": [
    {
     "name": "stdout",
     "output_type": "stream",
     "text": [
      "FAISS Document Index Loaded from existing directory.\n"
     ]
    }
   ],
   "source": [
    "faiss_index_dir = \"faiss_index_transportation\"  # You can change this path as needed\n",
    "\n",
    "embedding_model = GoogleGenerativeAIEmbeddings(model=\"models/embedding-001\", google_api_key=google_api_key)\n",
    "if not os.path.exists(faiss_index_dir):\n",
    "    os.makedirs(faiss_index_dir)\n",
    "    print(f\"Created FAISS index directory: {faiss_index_dir}\")\n",
    "\n",
    "faiss_main_file = os.path.join(faiss_index_dir, \"index.faiss\")\n",
    "faiss_pkl_file = os.path.join(faiss_index_dir, \"index.pkl\")\n",
    "\n",
    "if os.path.exists(faiss_main_file) and os.path.exists(faiss_pkl_file):\n",
    "    # If index exists, load it\n",
    "    vectorstore = FAISS.load_local(faiss_index_dir, embedding_model, allow_dangerous_deserialization=True)\n",
    "    print(\"FAISS Document Index Loaded from existing directory.\")\n",
    "else:\n",
    "    # If index does not exist, create it and save it\n",
    "    print(\"Creating and saving FAISS Document Index...\")\n",
    "    vectorstore = FAISS.from_documents(documents, embedding_model)\n",
    "    vectorstore.save_local(faiss_index_dir)\n",
    "    print(\"FAISS Document Index Created and Saved.\")\n",
    "\n",
    "retriever = vectorstore.as_retriever()\n"
   ]
  },
  {
   "cell_type": "code",
   "execution_count": 4,
   "id": "a5d305af",
   "metadata": {},
   "outputs": [
    {
     "name": "stderr",
     "output_type": "stream",
     "text": [
      "C:\\Users\\HP\\AppData\\Local\\Temp\\ipykernel_11808\\2424292218.py:15: LangChainDeprecationWarning: Please see the migration guide at: https://python.langchain.com/docs/versions/migrating_memory/\n",
      "  memory = ConversationBufferMemory(memory_key=\"chat_history\", return_messages=True)\n"
     ]
    }
   ],
   "source": [
    "\n",
    "template = '''\n",
    "Chat History : {chat_history}\n",
    "Context : {context}\n",
    "Question : {question}\n",
    "Instructions:\n",
    "For the transportation carbon emission tracker you have to use the below context:\n",
    "-> Apply the appropriate formula to calculate the CO₂ amount based on the question\n",
    "use this formula: Total = Emission Factor * Distance Travelled\n",
    "-> Output the CO₂ amount (in kg).\n",
    "-> Also give 2 suggestions to reduce this emission.\n",
    "'''\n",
    "custom_prompt = PromptTemplate.from_template(template)\n",
    "\n",
    "# --- Memory ---\n",
    "memory = ConversationBufferMemory(memory_key=\"chat_history\", return_messages=True)\n"
   ]
  },
  {
   "cell_type": "code",
   "execution_count": 5,
   "id": "46a9ff89",
   "metadata": {},
   "outputs": [],
   "source": [
    "llm = ChatGoogleGenerativeAI(model=\"gemini-2.5-flash\", temperature=0.7, google_api_key=google_api_key)\n",
    "\n",
    "conversational_qa_chain = ConversationalRetrievalChain.from_llm(\n",
    "    llm=llm,\n",
    "    retriever = retriever,\n",
    "    memory=memory,\n",
    "    combine_docs_chain_kwargs={\"prompt\": custom_prompt},\n",
    "    return_source_documents=False \n",
    ")"
   ]
  },
  {
   "cell_type": "code",
   "execution_count": 6,
   "id": "1df09825",
   "metadata": {},
   "outputs": [
    {
     "name": "stdout",
     "output_type": "stream",
     "text": [
      "\n",
      "--- RAG Chatbot (with Conversation History) ---\n",
      "Type 'exit', 'quit', or 'bye' to end the conversation.\n"
     ]
    },
    {
     "name": "stderr",
     "output_type": "stream",
     "text": [
      "C:\\Users\\HP\\AppData\\Local\\Temp\\ipykernel_11808\\795605312.py:13: LangChainDeprecationWarning: The method `Chain.__call__` was deprecated in langchain 0.1.0 and will be removed in 1.0. Use :meth:`~invoke` instead.\n",
      "  response = conversational_qa_chain({\"question\": user_query})\n"
     ]
    },
    {
     "name": "stdout",
     "output_type": "stream",
     "text": [
      "Bot: Your total carbon emission is:\n",
      "\n",
      "*   **SUV car:** 0.25 kg/km * 4 km = 1.0 kg CO₂\n",
      "*   **Bus (assuming public city bus):** 0.08 kg/km * 5 km = 0.4 kg CO₂\n",
      "\n",
      "**Total CO₂ emission = 1.0 kg + 0.4 kg = 1.4 kg CO₂**\n",
      "\n",
      "Here are 2 suggestions to reduce this emission:\n",
      "1.  **Opt for public transportation more often:** Buses and trains generally have lower per-person emissions than private vehicles, especially for longer distances.\n",
      "2.  **Consider carpooling or ride-sharing:** If using a private car is necessary, sharing the ride with others can significantly reduce the per-person carbon footprint.\n",
      "Bot: Your total carbon emission is:\n",
      "\n",
      "*   **SUV car:** 0.25 kg/km * 5 km = 1.25 kg CO₂\n",
      "*   **Bus (assuming public city bus):** 0.08 kg/km * 5 km = 0.4 kg CO₂\n",
      "\n",
      "**Total CO₂ emission = 1.25 kg + 0.4 kg = 1.65 kg CO₂**\n",
      "\n",
      "Here are 2 suggestions to reduce this emission:\n",
      "1.  **Utilize public transportation:** Buses and trains typically have lower per-person emissions compared to private vehicles, especially for regular commutes.\n",
      "2.  **Explore carpooling or ride-sharing:** If using a private car is essential, sharing the ride with others can significantly decrease your individual carbon footprint.\n",
      "Bot: Goodbye!\n"
     ]
    }
   ],
   "source": [
    "#print(os.getenv(\"GOOGLE_API_KEY\"))\n",
    "print(\"\\n--- RAG Chatbot (with Conversation History) ---\")\n",
    "print(\"Type 'exit', 'quit', or 'bye' to end the conversation.\")\n",
    "\n",
    "while True:\n",
    "    try:\n",
    "        user_query = input(\"You: \")\n",
    "        if user_query.lower() in [\"exit\", \"quit\", \"bye\"]:\n",
    "            print(\"Bot: Goodbye!\")\n",
    "            break\n",
    "\n",
    " \n",
    "        response = conversational_qa_chain({\"question\": user_query})\n",
    "        print(f\"Bot: {response['answer']}\")\n",
    "\n",
    "    except Exception as e:\n",
    "        print(f\"An error occurred: {e}\")\n",
    "        break"
   ]
  }
 ],
 "metadata": {
  "kernelspec": {
   "display_name": "Python 3",
   "language": "python",
   "name": "python3"
  },
  "language_info": {
   "codemirror_mode": {
    "name": "ipython",
    "version": 3
   },
   "file_extension": ".py",
   "mimetype": "text/x-python",
   "name": "python",
   "nbconvert_exporter": "python",
   "pygments_lexer": "ipython3",
   "version": "3.13.5"
  }
 },
 "nbformat": 4,
 "nbformat_minor": 5
}
